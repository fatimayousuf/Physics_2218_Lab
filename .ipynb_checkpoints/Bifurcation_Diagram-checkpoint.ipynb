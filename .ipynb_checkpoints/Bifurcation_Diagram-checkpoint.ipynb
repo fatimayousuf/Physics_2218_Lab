{
 "cells": [
  {
   "cell_type": "code",
   "execution_count": 6,
   "metadata": {},
   "outputs": [
    {
     "data": {
      "image/png": "[encoded data removed]",
      "text/plain": [
       "<Figure size 432x288 with 1 Axes>"
      ]
     },
     "metadata": {
      "needs_background": "light"
     },
     "output_type": "display_data"
    }
   ],
   "source": [
    "import pandas as pd \n",
    "import numpy as np\n",
    "from scipy.signal import argrelextrema\n",
    "import scipy.fftpack\n",
    "import warnings\n",
    "warnings.filterwarnings('ignore')\n",
    "import matplotlib.pyplot as plt\n",
    "\n",
    "# Dummy data- assume feigenbaum's constant is 1\n",
    "r = [0, 1, 1, 2, 2, 2, 2]\n",
    "attractors = [0, 1, -1, 1.5, 0.5, -0.5, -1.5]\n",
    "\n",
    "# We want to recursively create the following lists:\n",
    "# [0, 1, 2] [0, 1, 1.5]\n",
    "# [0, 1, 2] [0, 1, 0.5]\n",
    "# [0, 1, 2] [0, -1, -0.5]\n",
    "# [0, 1, 2] [0, -1, -1.5]\n",
    "\n",
    "r1, a1 = [0, 1, 2], [0, 1, 1.5]\n",
    "r2, a2 = [0, 1, 2], [0, 1, 0.5]\n",
    "r3, a3 = [0, 1, 2], [0, -1, -0.5]\n",
    "r4, a4 = [0, 1, 2], [0, -1, -1.5]\n",
    "\n",
    "\n",
    "# for i in range(len(r)):\n",
    "#     if i=0:\n",
    "#         continue\n",
    "#     if r[i] == \n",
    "\n",
    "plt.plot(r1, a1)\n",
    "plt.plot(r2, a2)\n",
    "plt.plot(r3, a3)\n",
    "plt.plot(r4, a4)\n",
    "plt.scatter(r, attractors)\n",
    "plt.show()"
   ]
  },
  {
   "cell_type": "code",
   "execution_count": null,
   "metadata": {},
   "outputs": [],
   "source": []
  }
 ],
 "metadata": {
  "kernelspec": {
   "display_name": "Python 3",
   "language": "python",
   "name": "python3"
  },
  "language_info": {
   "codemirror_mode": {
    "name": "ipython",
    "version": 3
   },
   "file_extension": ".py",
   "mimetype": "text/x-python",
   "name": "python",
   "nbconvert_exporter": "python",
   "pygments_lexer": "ipython3",
   "version": "3.7.6"
  }
 },
 "nbformat": 4,
 "nbformat_minor": 4
}
